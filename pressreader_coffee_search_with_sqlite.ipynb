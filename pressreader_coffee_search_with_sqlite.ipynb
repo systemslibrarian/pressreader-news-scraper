{
 "cells": [
  {
   "cell_type": "markdown",
   "metadata": {
    "id": "55Y8WnzlncR0"
   },
   "source": [
    "# PressReader API Search Example\n",
    "This notebook demonstrates how to query the PressReader API with an API key and JSON payload."
   ]
  },
  {
   "cell_type": "code",
   "execution_count": 10,
   "metadata": {
    "colab": {
     "base_uri": "https://localhost:8080/",
     "height": 1000
    },
    "executionInfo": {
     "elapsed": 18,
     "status": "ok",
     "timestamp": 1753736103145,
     "user": {
      "displayName": "Paul Clark",
      "userId": "02980629731763513221"
     },
     "user_tz": 240
    },
    "id": "3x2SjaoQu1tq",
    "outputId": "8ffb2c05-5bb3-448b-8570-44ca7f0d2918"
   },
   "outputs": [
    {
     "data": {
      "text/markdown": [
       "# ☕ Coffee Articles from PressReader\n",
       "\n",
       "### 1. [What is brew­ing Singa­pore's cof­fee boom?](https://www.pressreader.com/singapore/the-edge-singapore/20250728/281792815078682)\n",
       "*Published in: **The Edge Singapore** on 2025-07-28*  \n",
       "> The Economist Intelligence Unit (EIU) says that Singapore is the world’s most expensive city.\n",
       "A cup of Kopi-O (coffee without milk) costs about $1, which is about US$0.70.\n",
       "Malaysia’s Kopi-O costs $0.50 and the GDP per capita is US$12,000.\n",
       "\n",

      ],
      "text/plain": [
       "<IPython.core.display.Markdown object>"
      ]
     },
     "metadata": {},
     "output_type": "display_data"
    },
    {
     "name": "stdout",
     "output_type": "stream",
     "text": [
      "✅ Inserted 0 new article(s) into SQLite (pressreader_coffee_results.db)\n"
     ]
    }
   ],
   "source": [
    "# Securely load API key from environment\n",
    "import os\n",
    "api_key = os.environ.get('PRESSREADER_API_KEY')\n",
    "if not api_key:\n",
    "    raise ValueError(\"PRESSREADER_API_KEY environment variable not set.\")"
   ]
  },
  {
   "cell_type": "code",
   "execution_count": 14,
   "metadata": {
    "colab": {
     "base_uri": "https://localhost:8080/"
    },
    "executionInfo": {
     "elapsed": 66,
     "status": "ok",
     "timestamp": 1753736344345,
     "user": {
      "displayName": "Paul Clark",
      "userId": "02980629731763513221"
     },
     "user_tz": 240
    },
    "id": "6-tHOUT0zCzC",
    "outputId": "a214ca53-36dc-4406-dedb-5a2e5700fb68"
   },
   "outputs": [
    {
     "name": "stdout",
     "output_type": "stream",
     "text": [
      "\n",
      "--- Article 1 ---\n",
      "ID:          281908779160996\n",
      "Title:       Cof­fee and cream Three deli­cious pick-me-up pud­dings\n",
      "Description: 4tbsp Frangelico (hazelnut liqueur) 500g mascarpone\n",
      "6-8 serving glasses, or 1 large dish\n",
      "3 Mix the coffee and remaining Frangelico in a bowl.\n",
      "Publication: Woman & Home (UK)\n",
      "Date:        2025-09-01\n",
      "URL:         https://www.pressreader.com/uk/woman-home-uk/20250901/281908779160996\n",
      "\n",

     ]
    }
   ],
   "source": [
    "import sqlite3\n",
    "\n",
    "# Connect to the database\n",
    "conn = sqlite3.connect(\"pressreader_coffee_results.db\")\n",
    "cursor = conn.cursor()\n",
    "\n",
    "# Fetch all rows ordered by date descending\n",
    "cursor.execute(\"\"\"\n",
    "    SELECT id, title, description, publication, date, url\n",
    "    FROM articles\n",
    "    WHERE date IS NOT NULL AND date != ''\n",
    "    ORDER BY date DESC\n",
    "\"\"\")\n",
    "rows = cursor.fetchall()\n",
    "\n",
    "# Print each article in readable format\n",
    "for idx, row in enumerate(rows, 1):\n",
    "    print(f\"\\n--- Article {idx} ---\")\n",
    "    print(f\"ID:          {row[0]}\")\n",
    "    print(f\"Title:       {row[1]}\")\n",
    "    print(f\"Description: {row[2]}\")\n",
    "    print(f\"Publication: {row[3]}\")\n",
    "    print(f\"Date:        {row[4]}\")\n",
    "    print(f\"URL:         {row[5]}\")\n",
    "\n",
    "conn.close()\n"
   ]
  },
  {
   "cell_type": "code",
   "execution_count": 8,
   "metadata": {
    "colab": {
     "base_uri": "https://localhost:8080/"
    },
    "executionInfo": {
     "elapsed": 13,
     "status": "ok",
     "timestamp": 1753735969338,
     "user": {
      "displayName": "Paul Clark",
      "userId": "02980629731763513221"
     },
     "user_tz": 240
    },
    "id": "-ySN5ex4zP_a",
    "outputId": "c65c9d91-ba89-4c90-af5f-a0768a2a9384"
   },
   "outputs": [
    {
     "name": "stdout",
     "output_type": "stream",
     "text": [
      "Tables found: [('articles',)]\n",
      "\n",
      "Schema for table articles:\n",
      "(0, 'id', 'TEXT', 0, None, 1)\n",
      "(1, 'title', 'TEXT', 0, None, 0)\n",
      "(2, 'description', 'TEXT', 0, None, 0)\n",
      "(3, 'publication', 'TEXT', 0, None, 0)\n",
      "(4, 'date', 'TEXT', 0, None, 0)\n",
      "(5, 'url', 'TEXT', 0, None, 0)\n"
     ]
    }
   ],
   "source": [
    "import sqlite3\n",
    "\n",
    "conn = sqlite3.connect(\"pressreader_coffee_results.db\")\n",
    "cursor = conn.cursor()\n",
    "\n",
    "# List all table names again\n",
    "cursor.execute(\"SELECT name FROM sqlite_master WHERE type='table';\")\n",
    "tables = cursor.fetchall()\n",
    "print(\"Tables found:\", tables)\n",
    "\n",
    "# For each table, show the schema\n",
    "for table in tables:\n",
    "    print(f\"\\nSchema for table {table[0]}:\")\n",
    "    cursor.execute(f\"PRAGMA table_info('{table[0]}');\")\n",
    "    columns = cursor.fetchall()\n",
    "    for col in columns:\n",
    "        print(col)\n",
    "\n",
    "conn.close()"
   ]
  },
  {
   "cell_type": "code",
   "execution_count": 9,
   "metadata": {
    "colab": {
     "base_uri": "https://localhost:8080/"
    },
    "executionInfo": {
     "elapsed": 47,
     "status": "ok",
     "timestamp": 1753736022041,
     "user": {
      "displayName": "Paul Clark",
      "userId": "02980629731763513221"
     },
     "user_tz": 240
    },
    "id": "kRk9Kncvz_R1",
    "outputId": "c8a331da-d74d-40d2-e512-4d7dd13b9abf"
   },
   "outputs": [
    {
     "name": "stdout",
     "output_type": "stream",
     "text": [
      "Database exists: True\n",
      "Current working directory: /content\n",
      "Files in current directory:\n",
      "['.config', 'pressreader_coffee_results.db', 'sample_data']\n"
     ]
    }
   ],
   "source": [
    "import os\n",
    "\n",
    "# Check if the file actually exists in the current runtime\n",
    "print(\"Database exists:\", os.path.exists(\"pressreader_coffee_results.db\"))\n",
    "\n",
    "# Print full path for verification\n",
    "print(\"Current working directory:\", os.getcwd())\n",
    "\n",
    "# List all files to confirm visibility\n",
    "print(\"Files in current directory:\")\n",
    "print(os.listdir(\".\"))\n"
   ]
  }
 ],
 "metadata": {
  "colab": {
   "provenance": []
  },
  "kernelspec": {
   "display_name": "Python 3",
   "language": "python",
   "name": "python3"
  },
  "language_info": {
   "name": "python",
   "version": "3.x"
  }
 },
 "nbformat": 4,
 "nbformat_minor": 0
}
