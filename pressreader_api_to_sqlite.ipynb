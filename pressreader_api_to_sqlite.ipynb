{
  "cells": [
    {
      "cell_type": "markdown",
      "metadata": {
        "id": "55Y8WnzlncR0"
      },
      "source": [
        "# ☕ PressReader Coffee Article Search with SQLite (Colab)\n",
        "\n",
        "This notebook:\n",
        "\n",
        "- Searches for **coffee-related articles** using the [PressReader Discovery API](https://www.pressreader.com/)\n",
        "- Stores new articles in a **local SQLite database** (`pressreader_coffee_results.db`)\n",
        "- Renders results in readable **Markdown format**\n",
        "- Prevents duplicates using a **primary key constraint on article ID**\n",
        "\n",
        "---\n",
        "\n",
        "## 🔐 Setup Instructions\n",
        "\n",
        "Before running the notebook, follow these steps in **Google Colab**:\n",
        "\n",
        "1. Click the play button on the first code cell.\n",
        "2. When prompted, enter your **PressReader API key** securely.\n",
        "3. Then run the remaining cells to:\n",
        "   - Fetch fresh articles\n",
        "   - Store them in SQLite\n",
        "   - View saved results in a readable format\n",
        "\n",
        "### 📌 Set your API key (one-time per session):\n",
        "\n",
        "```python\n",
        "from google.colab import userdata\n",
        "userdata.set_secret('PRESSREADER_API_KEY')"
      ]
    },
    {
      "cell_type": "markdown",
      "source": [
        "## ⚙️ Configuration\n",
        "Set the database filename, API endpoint, and search query here."
      ],
      "metadata": {
        "id": "config-markdown-cell"
      }
    },
    {
      "cell_type": "code",
      "source": [
        "# --- Configuration --\n",
        "DB_FILE = \"pressreader_coffee_results.db\"\n",
        "API_URL = 'https://api.prod.pressreader.com/discovery/v1/search?offset=0&limit=5'\n",
        "QUERY = 'coffee'"
      ],
      "metadata": {
        "id": "config-code-cell"
      },
      "execution_count": 1,
      "outputs": []
    },
    {
      "cell_type": "code",
      "metadata": {
        "colab": {
          "base_uri": "https://localhost:8080/"
        },
        "id": "43db9d36",
        "outputId": "2d4c8667-d740-48dc-efb1-4f16c3c225b8"
      },
      "source": [
        "%pip install python-dotenv"
      ],
      "execution_count": 3,
      "outputs": [
        {
          "output_type": "stream",
          "name": "stdout",
          "text": [
            "Collecting python-dotenv\n",
            "  Downloading python_dotenv-1.1.1-py3-none-any.whl.metadata (24 kB)\n",
            "Downloading python_dotenv-1.1.1-py3-none-any.whl (20 kB)\n",
            "Installing collected packages: python-dotenv\n",
            "Successfully installed python-dotenv-1.1.1\n"
          ]
        }
      ]
    },
    {
      "cell_type": "markdown",
      "source": [
        "## 🚀 Execution\n",
        "The main script logic is below. It imports dependencies, defines functions, and runs the process."
      ],
      "metadata": {
        "id": "execution-markdown-cell"
      }
    },
    {
      "cell_type": "code",
      "source": [
        "import os\n",
        "import requests\n",
        "import json\n",
        "import sqlite3\n",
        "from IPython.display import Markdown, display\n",
        "from dotenv import load_dotenv\n",
        "\n",
        "def get_api_key():\n",
        "    \"\"\"Fetches the PressReader API key from Colab secrets or a .env file.\"\"\"\n",
        "    try:\n",
        "        from google.colab import userdata\n",
        "        api_key = userdata.get('PRESSREADER_API_KEY')\n",
        "        if not api_key:\n",
        "            raise ValueError(\"❌ PRESSREADER_API_KEY not found in Colab secrets.\")\n",
        "        print(\"🔑 API key loaded from Colab secrets.\")\n",
        "        return api_key\n",
        "    except ImportError:\n",
        "        load_dotenv()  # Load environment variables from .env file\n",
        "        api_key = os.environ.get('PRESSREADER_API_KEY')\n",
        "        if not api_key:\n",
        "            raise ValueError(\"❌ PRESSREADER_API_KEY not found. Create a .env file or set it as an environment variable.\")\n",
        "        print(\"🔑 API key loaded from .env file.\")\n",
        "        return api_key\n",
        "\n",
        "def fetch_articles(api_key, query, api_url):\n",
        "    \"\"\"Fetches articles from the PressReader API.\"\"\"\n",
        "    headers = {'Content-Type': 'application/json', 'api-key': api_key}\n",
        "    payload = {'query': query}\n",
        "    response = requests.post(api_url, headers=headers, json=payload)\n",
        "    response.raise_for_status()  # Raises an exception for bad status codes\n",
        "    return response.json().get(\"items\", [])\n",
        "\n",
        "def init_db(conn):\n",
        "    \"\"\"Initializes the SQLite database and creates the articles table.\"\"\"\n",
        "    with conn:\n",
        "        conn.execute(\"\"\"\n",
        "        CREATE TABLE IF NOT EXISTS articles (\n",
        "            id TEXT PRIMARY KEY,\n",
        "            title TEXT,\n",
        "            description TEXT,\n",
        "            publication TEXT,\n",
        "            date TEXT,\n",
        "            url TEXT\n",
        "        )\n",
        "        \"\"\")\n",
        "\n",
        "def save_articles(conn, articles):\n",
        "    \"\"\"Saves a list of articles to the database, skipping duplicates.\"\"\"\n",
        "    inserted_count = 0\n",
        "    with conn:\n",
        "        for article in articles:\n",
        "            try:\n",
        "                article_id = str(article.get(\"article\", {}).get(\"id\", \"no-id\"))\n",
        "                title = article.get(\"article\", {}).get(\"title\", \"Untitled\")\n",
        "                url = article.get(\"article\", {}).get(\"url\", \"\")\n",
        "                description = article.get(\"summary\", \"\")\n",
        "                publication = article.get(\"publication\", {}).get(\"title\", \"Unknown\")\n",
        "                date = article.get(\"issue\", {}).get(\"date\", \"\").split(\"T\")[0]\n",
        "\n",
        "                conn.execute(\"\"\"\n",
        "                INSERT INTO articles (id, title, description, publication, date, url)\n",
        "                VALUES (?, ?, ?, ?, ?, ?)\n",
        "                \"\"\", (article_id, title, description, publication, date, url))\n",
        "                inserted_count += 1\n",
        "            except sqlite3.IntegrityError:\n",
        "                pass # Article already exists\n",
        "    return inserted_count\n",
        "\n",
        "def format_articles_as_markdown(articles):\n",
        "    \"\"\"Formats a list of articles into a Markdown string.\"\"\"\n",
        "    markdown_lines = [\"# ☕ Coffee Articles from PressReader\\n\"]\n",
        "    for i, article in enumerate(articles, start=1):\n",
        "        title = article.get(\"article\", {}).get(\"title\", \"Untitled\")\n",
        "        url = article.get(\"article\", {}).get(\"url\", \"\")\n",
        "        publication = article.get(\"publication\", {}).get(\"title\", \"Unknown\")\n",
        "        date = article.get(\"issue\", {}).get(\"date\", \"\").split(\"T\")[0]\n",
        "        description = article.get(\"summary\", \"\")\n",
        "\n",
        "        markdown_lines.append(f\"### {i}. [{title}]({url})\")\n",
        "        markdown_lines.append(f\"*Published in: **{publication}** on {date}*  \")\n",
        "        if description:\n",
        "            markdown_lines.append(f\"> {description}\\n\")\n",
        "    return \"\\n\".join(markdown_lines)\n",
        "\n",
        "# --- Main Execution ---\n",
        "try:\n",
        "    api_key = get_api_key()\n",
        "    articles = fetch_articles(api_key, QUERY, API_URL)\n",
        "\n",
        "    with sqlite3.connect(DB_FILE, timeout=10) as conn:\n",
        "        init_db(conn)\n",
        "        inserted_count = save_articles(conn, articles)\n",
        "\n",
        "    markdown_output = format_articles_as_markdown(articles)\n",
        "    display(Markdown(markdown_output))\n",
        "    print(f\"✅ Inserted {inserted_count} new article(s) into {DB_FILE}\")\n",
        "\n",
        "except (ValueError, requests.exceptions.RequestException) as e:\n",
        "    print(f\"❌ An error occurred: {e}\")\n"
      ],
      "metadata": {
        "colab": {
          "base_uri": "https://localhost:8080/",
          "height": 818
        },
        "id": "3x2SjaoQu1tq",
        "outputId": "2832319d-7230-4956-ebb0-ff53a1e343be"
      },
      "execution_count": 4,
      "outputs": [
        {
          "output_type": "stream",
          "name": "stdout",
          "text": [
            "🔑 API key loaded from Colab secrets.\n"
          ]
        },
        {
          "output_type": "display_data",
          "data": {
            "text/plain": [
              "<IPython.core.display.Markdown object>"
            ],
            "text/markdown": "# ☕ Coffee Articles from PressReader\n\n### 1. [Cof­fee lov­ers, import­ers await impact of trade tar­iffs](https://www.pressreader.com/hong-kong/china-daily/20250730/281814289918072)\n*Published in: **China Daily** on 2025-07-30*  \n> But amid a brewing global trade war, a “cup of Joe” could soon get pricier after President Donald Trump said that he was considering raising tariffs on coffee imports from Brazil to 50 percent from 10 percent, beginning on Aug 1.\nAround 1.6 million metric tons of coffee were imported into the US in 2024, according to the United States Department of Agriculture.\nBrazil is one of the world’s largest suppliers of coffee, alongside Colombia and Vietnam.\n\n### 2. [Bagels return to stal­wart roast­ery](https://www.pressreader.com/new-zealand/the-press/20250730/281625311356877)\n*Published in: **The Press** on 2025-07-30*  \n> C4 Brew Bar and Bagelry in Christchurch is taking years off the calendar going back to its days on Tuam St between 2008 and 2011 when fresh bagel schmears and an espresso were breakfast on the run for some.\nC4 Coffee co-owner Paula Griffith-Jones said the bagel menu used to be popular.\nThe menu uses Vic’s Bakehouse bagels to honour classic Kiwi brunch dishes, including scrambled eggs benedict, French toast and a BLT served with a side of crisps; while the schmears bring back traditional pesto and cream cheese, and peanut butter and jam.\n\n### 3. [Cof­fee lov­ers, import­ers await impact of trade tar­iffs](https://www.pressreader.com/hong-kong/china-daily-hong-kong/20250730/281835764754653)\n*Published in: **China Daily (Hong Kong)** on 2025-07-30*  \n> But amid a brewing global trade war, a “cup of Joe” could soon get pricier after President Donald Trump said that he was considering raising tariffs on coffee imports from Brazil to 50 percent from 10 percent, beginning on Aug 1.\nAround 1.6 million metric tons of coffee were imported into the US in 2024, according to the United States Department of Agriculture.\nBrazil is one of the world’s largest suppliers of coffee, alongside Colombia and Vietnam.\n\n### 4. [Cof­fee Price And Stock­pile](https://www.pressreader.com/vietnam/the-saigon-times-weekly-9yzf/20250731/281762750312533)\n*Published in: **The Saigon Times Weekly** on 2025-07-31*  \n> Within only a few months, the domestic coffee price has dropped from its peak of VND135 million per ton to VND85 million per ton.\nMeanwhile, the forward price of the London Robusta Coffee Exchange gradually dropped to US$3,348 per ton in mid-July after surging from US$2,300 per ton in October 2023 to the peak of US$5,849 per ton.\nThe price of Arabica coffee has plummeted from its peak of US$430 per cwt to US$303.60 per cwt at the close on July 18, 2025.\n\n### 5. [What is brew­ing Singa­pore's cof­fee boom?](https://www.pressreader.com/singapore/the-edge-singapore/20250728/281792815078682)\n*Published in: **The Edge Singapore** on 2025-07-28*  \n> The Economist Intelligence Unit (EIU) says that Singapore is the world’s most expensive city.\nA cup of Kopi-O (coffee without milk) costs about $1, which is about US$0.70.\nMalaysia’s Kopi-O costs $0.50 and the GDP per capita is US$12,000.\n"
          },
          "metadata": {}
        },
        {
          "output_type": "stream",
          "name": "stdout",
          "text": [
            "✅ Inserted 5 new article(s) into pressreader_coffee_results.db\n"
          ]
        }
      ]
    },
    {
      "cell_type": "markdown",
      "source": [
        "## 🔍 View Saved PressReader Coffee Articles\n",
        "\n",
        "This code connects to the local SQLite database (`pressreader_coffee_results.db`) and retrieves all stored articles related to **coffee**. It displays them in reverse chronological order (most recent first), showing:\n",
        "\n",
        "- Article ID\n",
        "- Title\n",
        "- Summary/Description\n",
        "- Publication name\n",
        "- Publication date\n",
        "- Direct URL to the article\n",
        "\n",
        "Use this to **review all previously stored articles** in a readable format.\n"
      ],
      "metadata": {
        "id": "GPtBJYneRm89"
      }
    },
    {
      "cell_type": "code",
      "source": [
        "import sqlite3  # Import the built-in library to interact with SQLite databases\n",
        "\n",
        "# ---------------------------------------------\n",
        "# STEP 1: Connect to the SQLite database file\n",
        "# ---------------------------------------------\n",
        "# If the file doesn't exist, it will be created automatically.\n",
        "# In this case, it should already exist from previous runs where articles were inserted.\n",
        "conn = sqlite3.connect(\"pressreader_coffee_results.db\")\n",
        "cursor = conn.cursor()\n",
        "\n",
        "# ---------------------------------------------\n",
        "# STEP 2: Query the articles table for data\n",
        "# ---------------------------------------------\n",
        "# This SQL query selects 6 fields from the `articles` table:\n",
        "# - id: the unique article ID (used as the primary key)\n",
        "# - title: the article's title\n",
        "# - description: a brief summary or excerpt\n",
        "# - publication: the name of the publication that published it\n",
        "# - date: the publication date (in YYYY-MM-DD format)\n",
        "# - url: direct link to the article online\n",
        "#\n",
        "# The results are filtered to exclude empty or null dates,\n",
        "# and sorted by `date` in descending order, so the most recent articles appear first.\n",
        "cursor.execute(\"\"\"\n",
        "    SELECT id, title, description, publication, date, url\n",
        "    FROM articles\n",
        "    WHERE date IS NOT NULL AND date != ''\n",
        "    ORDER BY date DESC\n",
        "\"\"\")\n",
        "\n",
        "# Fetch all the resulting rows and store them in a list called `rows`\n",
        "rows = cursor.fetchall()\n",
        "\n",
        "# ---------------------------------------------\n",
        "# STEP 3: Loop through the results and display them\n",
        "# ---------------------------------------------\n",
        "# For each row (article), print it out in a clean, readable format.\n",
        "# The fields are displayed with clear labels, and each article is numbered.\n",
        "for idx, row in enumerate(rows, 1):  # Start numbering from 1\n",
        "    print(f\"\\n--- Article {idx} ---\")\n",
        "    print(f\"ID:          {row[0]}\")\n",
        "    print(f\"Title:       {row[1]}\")\n",
        "    print(f\"Description: {row[2]}\")\n",
        "    print(f\"Publication: {row[3]}\")\n",
        "    print(f\"Date:        {row[4]}\")\n",
        "    print(f\"URL:         {row[5]}\")\n",
        "\n",
        "# ---------------------------------------------\n",
        "# STEP 4: Close the database connection\n",
        "# ---------------------------------------------\n",
        "# This is good practice to release system resources and ensure changes are saved.\n",
        "conn.close()"
      ],
      "metadata": {
        "colab": {
          "base_uri": "https://localhost:8080/"
        },
        "id": "6-tHOUT0zCzC",
        "outputId": "e057da67-3dbd-4f41-b3c1-3641745a4f6e"
      },
      "execution_count": 5,
      "outputs": [
        {
          "output_type": "stream",
          "name": "stdout",
          "text": [
            "\n",
            "--- Article 1 ---\n",
            "ID:          281762750312533\n",
            "Title:       Cof­fee Price And Stock­pile\n",
            "Description: Within only a few months, the domestic coffee price has dropped from its peak of VND135 million per ton to VND85 million per ton.\n",
            "Meanwhile, the forward price of the London Robusta Coffee Exchange gradually dropped to US$3,348 per ton in mid-July after surging from US$2,300 per ton in October 2023 to the peak of US$5,849 per ton.\n",
            "The price of Arabica coffee has plummeted from its peak of US$430 per cwt to US$303.60 per cwt at the close on July 18, 2025.\n",
            "Publication: The Saigon Times Weekly\n",
            "Date:        2025-07-31\n",
            "URL:         https://www.pressreader.com/vietnam/the-saigon-times-weekly-9yzf/20250731/281762750312533\n",
            "\n",
            "--- Article 2 ---\n",
            "ID:          281814289918072\n",
            "Title:       Cof­fee lov­ers, import­ers await impact of trade tar­iffs\n",
            "Description: But amid a brewing global trade war, a “cup of Joe” could soon get pricier after President Donald Trump said that he was considering raising tariffs on coffee imports from Brazil to 50 percent from 10 percent, beginning on Aug 1.\n",
            "Around 1.6 million metric tons of coffee were imported into the US in 2024, according to the United States Department of Agriculture.\n",
            "Brazil is one of the world’s largest suppliers of coffee, alongside Colombia and Vietnam.\n",
            "Publication: China Daily\n",
            "Date:        2025-07-30\n",
            "URL:         https://www.pressreader.com/hong-kong/china-daily/20250730/281814289918072\n",
            "\n",
            "--- Article 3 ---\n",
            "ID:          281625311356877\n",
            "Title:       Bagels return to stal­wart roast­ery\n",
            "Description: C4 Brew Bar and Bagelry in Christchurch is taking years off the calendar going back to its days on Tuam St between 2008 and 2011 when fresh bagel schmears and an espresso were breakfast on the run for some.\n",
            "C4 Coffee co-owner Paula Griffith-Jones said the bagel menu used to be popular.\n",
            "The menu uses Vic’s Bakehouse bagels to honour classic Kiwi brunch dishes, including scrambled eggs benedict, French toast and a BLT served with a side of crisps; while the schmears bring back traditional pesto and cream cheese, and peanut butter and jam.\n",
            "Publication: The Press\n",
            "Date:        2025-07-30\n",
            "URL:         https://www.pressreader.com/new-zealand/the-press/20250730/281625311356877\n",
            "\n",
            "--- Article 4 ---\n",
            "ID:          281835764754653\n",
            "Title:       Cof­fee lov­ers, import­ers await impact of trade tar­iffs\n",
            "Description: But amid a brewing global trade war, a “cup of Joe” could soon get pricier after President Donald Trump said that he was considering raising tariffs on coffee imports from Brazil to 50 percent from 10 percent, beginning on Aug 1.\n",
            "Around 1.6 million metric tons of coffee were imported into the US in 2024, according to the United States Department of Agriculture.\n",
            "Brazil is one of the world’s largest suppliers of coffee, alongside Colombia and Vietnam.\n",
            "Publication: China Daily (Hong Kong)\n",
            "Date:        2025-07-30\n",
            "URL:         https://www.pressreader.com/hong-kong/china-daily-hong-kong/20250730/281835764754653\n",
            "\n",
            "--- Article 5 ---\n",
            "ID:          281792815078682\n",
            "Title:       What is brew­ing Singa­pore's cof­fee boom?\n",
            "Description: The Economist Intelligence Unit (EIU) says that Singapore is the world’s most expensive city.\n",
            "A cup of Kopi-O (coffee without milk) costs about $1, which is about US$0.70.\n",
            "Malaysia’s Kopi-O costs $0.50 and the GDP per capita is US$12,000.\n",
            "Publication: The Edge Singapore\n",
            "Date:        2025-07-28\n",
            "URL:         https://www.pressreader.com/singapore/the-edge-singapore/20250728/281792815078682\n"
          ]
        }
      ]
    }
  ],
  "metadata": {
    "colab": {
      "provenance": []
    },
    "kernelspec": {
      "display_name": "Python 3",
      "language": "python",
      "name": "python3"
    },
    "language_info": {
      "name": "python",
      "version": "3.x"
    }
  },
  "nbformat": 4,
  "nbformat_minor": 0
}