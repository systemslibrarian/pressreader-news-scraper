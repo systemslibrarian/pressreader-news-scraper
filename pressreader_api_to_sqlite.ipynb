{
  "cells": [
    {
      "cell_type": "markdown",
      "metadata": {
        "id": "55Y8WnzlncR0"
      },
      "source": [
        "# ☕ PressReader Coffee Article Search with SQLite (Colab)\n",
        "\n",
        "This notebook:\n",
        "\n",
        "- Searches for **coffee-related articles** using the [PressReader Discovery API](https://www.pressreader.com/)\n",
        "- Stores new articles in a **local SQLite database** (`pressreader_coffee_results.db`)\n",
        "- Renders results in readable **Markdown format**\n",
        "- Prevents duplicates using a **primary key constraint on article ID**\n",
        "\n",
        "---\n",
        "\n",
        "## 🔐 Setup Instructions\n",
        "\n",
        "Before running the notebook, follow these steps in **Google Colab**:\n",
        "\n",
        "1. Click the play button on the first code cell.\n",
        "2. When prompted, enter your **PressReader API key** securely.\n",
        "3. Then run the remaining cells to:\n",
        "   - Fetch fresh articles\n",
        "   - Store them in SQLite\n",
        "   - View saved results in a readable format\n",
        "\n",
        "### 📌 Set your API key (one-time per session):\n",
        "\n",
        "```python\n",
        "from google.colab import userdata\n",
        "userdata.set_secret('PRESSREADER_API_KEY')"
      ]
    },
    {
      "cell_type": "markdown",
      "source": [
        "## ⚙️ Configuration\n",
        "Set the database filename, API endpoint, and search query here."
      ],
      "metadata": {
        "id": "config-markdown-cell"
      }
    },
    {
      "cell_type": "code",
      "source": [
        "# --- Configuration --\n",
        "DB_FILE = \"pressreader_coffee_results.db\"\n",
        "API_URL = 'https://api.prod.pressreader.com/discovery/v1/search?offset=0&limit=5'\n",
        "QUERY = 'coffee'"
      ],
      "metadata": {
        "id": "config-code-cell"
      },
      "execution_count": null,
      "outputs": []
    },
    {
      "cell_type": "markdown",
      "source": [
        "## 🚀 Execution\n",
        "The main script logic is below. It imports dependencies, defines functions, and runs the process."
      ],
      "metadata": {
        "id": "execution-markdown-cell"
      }
    },
    {
      "cell_type": "code",
      "source": [
        "import os\n",
        "import requests\n",
        "import json\n",
        "import sqlite3\n",
        "from IPython.display import Markdown, display\n",
        "from dotenv import load_dotenv\n",
        "\n",
        "def get_api_key():\n",
        "    \"\"\"Fetches the PressReader API key from Colab secrets or a .env file.\"\"\"\n",
        "    try:\n",
        "        from google.colab import userdata\n",
        "        api_key = userdata.get('PRESSREADER_API_KEY')\n",
        "        if not api_key:\n",
        "            raise ValueError(\"❌ PRESSREADER_API_KEY not found in Colab secrets.\")\n",
        "        print(\"🔑 API key loaded from Colab secrets.\")\n",
        "        return api_key\n",
        "    except ImportError:\n",
        "        load_dotenv()  # Load environment variables from .env file\n",
        "        api_key = os.environ.get('PRESSREADER_API_KEY')\n",
        "        if not api_key:\n",
        "            raise ValueError(\"❌ PRESSREADER_API_KEY not found. Create a .env file or set it as an environment variable.\")\n",
        "        print(\"🔑 API key loaded from .env file.\")\n",
        "        return api_key\n",
        "\n",
        "def fetch_articles(api_key, query, api_url):\n",
        "    \"\"\"Fetches articles from the PressReader API.\"\"\"\n",
        "    headers = {'Content-Type': 'application/json', 'api-key': api_key}\n",
        "    payload = {'query': query}\n",
        "    response = requests.post(api_url, headers=headers, json=payload)\n",
        "    response.raise_for_status()  # Raises an exception for bad status codes\n",
        "    return response.json().get(\"items\", [])\n",
        "\n",
        "def init_db(conn):\n",
        "    \"\"\"Initializes the SQLite database and creates the articles table.\"\"\"\n",
        "    with conn:\n",
        "        conn.execute(\"\"\"\n",
        "        CREATE TABLE IF NOT EXISTS articles (\n",
        "            id TEXT PRIMARY KEY,\n",
        "            title TEXT,\n",
        "            description TEXT,\n",
        "            publication TEXT,\n",
        "            date TEXT,\n",
        "            url TEXT\n",
        "        )\n",
        "        \"\"\")\n",
        "\n",
        "def save_articles(conn, articles):\n",
        "    \"\"\"Saves a list of articles to the database, skipping duplicates.\"\"\"\n",
        "    inserted_count = 0\n",
        "    with conn:\n",
        "        for article in articles:\n",
        "            try:\n",
        "                article_id = str(article.get(\"article\", {}).get(\"id\", \"no-id\"))\n",
        "                title = article.get(\"article\", {}).get(\"title\", \"Untitled\")\n",
        "                url = article.get(\"article\", {}).get(\"url\", \"\")\n",
        "                description = article.get(\"summary\", \"\")\n",
        "                publication = article.get(\"publication\", {}).get(\"title\", \"Unknown\")\n",
        "                date = article.get(\"issue\", {}).get(\"date\", \"\").split(\"T\")[0]\n",
        "                \n",
        "                conn.execute(\"\"\"\n",
        "                INSERT INTO articles (id, title, description, publication, date, url)\n",
        "                VALUES (?, ?, ?, ?, ?, ?)\n",
        "                \"\"\", (article_id, title, description, publication, date, url))\n",
        "                inserted_count += 1\n",
        "            except sqlite3.IntegrityError:\n",
        "                pass # Article already exists\n",
        "    return inserted_count\n",
        "\n",
        "def format_articles_as_markdown(articles):\n",
        "    \"\"\"Formats a list of articles into a Markdown string.\"\"\"\n",
        "    markdown_lines = [\"# ☕ Coffee Articles from PressReader\\n\"]\n",
        "    for i, article in enumerate(articles, start=1):\n",
        "        title = article.get(\"article\", {}).get(\"title\", \"Untitled\")\n",
        "        url = article.get(\"article\", {}).get(\"url\", \"\")\n",
        "        publication = article.get(\"publication\", {}).get(\"title\", \"Unknown\")\n",
        "        date = article.get(\"issue\", {}).get(\"date\", \"\").split(\"T\")[0]\n",
        "        description = article.get(\"summary\", \"\")\n",
        "        \n",
        "        markdown_lines.append(f\"### {i}. [{title}]({url})\")\n",
        "        markdown_lines.append(f\"*Published in: **{publication}** on {date}*  \")\n",
        "        if description:\n",
        "            markdown_lines.append(f\"> {description}\\n\")\n",
        "    return \"\\n\".join(markdown_lines)\n",
        "\n",
        "# --- Main Execution ---\n",
        "try:\n",
        "    api_key = get_api_key()\n",
        "    articles = fetch_articles(api_key, QUERY, API_URL)\n",
        "    \n",
        "    with sqlite3.connect(DB_FILE, timeout=10) as conn:\n",
        "        init_db(conn)\n",
        "        inserted_count = save_articles(conn, articles)\n",
        "    \n",
        "    markdown_output = format_articles_as_markdown(articles)\n",
        "    display(Markdown(markdown_output))\n",
        "    print(f\"✅ Inserted {inserted_count} new article(s) into {DB_FILE}\")\n",
        "\n",
        "except (ValueError, requests.exceptions.RequestException) as e:\n",
        "    print(f\"❌ An error occurred: {e}\")\n"
      ],
      "metadata": {
        "colab": {
          "base_uri": "https://localhost:8080/",
          "height": 792
        },
        "id": "3x2SjaoQu1tq",
        "outputId": "03506f0c-bcca-4c9a-cc45-8a01d570645e"
      },
      "execution_count": null,
      "outputs": [
        {
          "output_type": "display_data",
          "data": {
            "text/plain": [
              "<IPython.core.display.Markdown object>"
            ],
            "text/markdown": "# ☕ Coffee Articles from PressReader\n\n### 1. [What is brew­ing Singa­pore's cof­fee boom?](https://www.pressreader.com/singapore/the-edge-singapore/20250728/281792815078682)\n*Published in: **The Edge Singapore** on 2025-07-28*  \n> The Economist Intelligence Unit (EIU) says that Singapore is the world’s most expensive city.\nA cup of Kopi-O (coffee without milk) costs about $1, which is about US$0.70.\nMalaysia’s Kopi-O costs $0.50 and the GDP per capita is US$12,000.\n\n### 2. [Star­bucks, Dunkin’ lead Phl cof­fee mar­ket; local brands catch­ing up](https://www.pressreader.com/philippines/the-philippine-star/20250728/281925959063733)\n*Published in: **The Philippine Star** on 2025-07-28*  \n> brands continue to dominate the country’s coffee industry, but homegrown brands are gaining traction, helping to diversify and enrich Filipinos’ caffeine options, according to the University of Asia and the Pacific-Center for Food and Agri Business (UA&P-CFA).\nIn a policy brief, UA&P-CFA said the local café market is led by a “few dominant” global brands, based on a\nThe policy brief indicated that Starbucks Corp. remains as the industry leader, accounting for almost 54 percent of total value share among chain café and bar operators.\n\n### 3. [TCPL pre­pares for another quarter of low cof­fee mar­gins](https://www.pressreader.com/india/mint-mumbai/20250724/281878714416579)\n*Published in: **Mint Mumbai** on 2025-07-24*  \n> Packaged food and beverage firm Tata Consumer Products Ltd (TCPL) on Wednesday said coffee prices are currently on a downward trajectory, though the ongoing volatility necessitates close monitoring following a period of significant surge.\nIn the March quarter, TCPL had said prices of Arabica coffee were 97% higher year-onyear, while Robusta coffee prices were up 56%.\nDespite a global price drop impacting profitability, the firm’s coffee business in India reported revenue growth of 67% on the back of a 33rise % in volumes.\n\n### 4. [TCPL pre­pares for another quarter of low cof­fee mar­gins](https://www.pressreader.com/india/mint-hyderabad/20250724/281814289907148)\n*Published in: **Mint Hyderabad** on 2025-07-24*  \n> Packaged food and beverage firm Tata Consumer Products Ltd (TCPL) on Wednesday said coffee prices are currently on a downward trajectory, though the ongoing volatility necessitates close monitoring following a period of significant surge.\nIn the March quarter, TCPL had said prices of Arabica coffee were 97% higher year-onyear, while Robusta coffee prices were up 56%.\nDespite a global price drop impacting profitability, the firm’s coffee business in India reported revenue growth of 67% on the back of a 33rise % in volumes.\n\n### 5. [TCPL pre­pares for another quarter of low cof­fee mar­gins](https://www.pressreader.com/india/mint-delhi/20250724/281844354678219)\n*Published in: **Mint Delhi** on 2025-07-24*  \n> Packaged food and beverage firm Tata Consumer Products Ltd (TCPL) on Wednesday said coffee prices are currently on a downward trajectory, though the ongoing volatility necessitates close monitoring following a period of significant surge.\nIn the March quarter, TCPL had said prices of Arabica coffee were 97% higher year-onyear, while Robusta coffee prices were up 56%.\nDespite a global price drop impacting profitability, the firm’s coffee business in India reported revenue growth of 67% on the back of a 33rise % in volumes.\n"
          },
          "metadata": {}
        },
        {
          "output_type": "stream",
          "name": "stdout",
          "text": [
            "✅ Inserted 5 new article(s) into SQLite (pressreader_coffee_results.db)\n"
          ]
        }
      ]
    },
    {
      "cell_type": "markdown",
      "source": [
        "## 🔍 View Saved PressReader Coffee Articles\n",
        "\n",
        "This code connects to the local SQLite database (`pressreader_coffee_results.db`) and retrieves all stored articles related to **coffee**. It displays them in reverse chronological order (most recent first), showing:\n",
        "\n",
        "- Article ID\n",
        "- Title\n",
        "- Summary/Description\n",
        "- Publication name\n",
        "- Publication date\n",
        "- Direct URL to the article\n",
        "\n",
        "Use this to **review all previously stored articles** in a readable format.\n"
      ],
      "metadata": {
        "id": "GPtBJYneRm89"
      }
    },
    {
      "cell_type": "code",
      "source": [
        "import sqlite3  # Import the built-in library to interact with SQLite databases\n",
        "\n",
        "# ---------------------------------------------\n",
        "# STEP 1: Connect to the SQLite database file\n",
        "# ---------------------------------------------\n",
        "# If the file doesn't exist, it will be created automatically.\n",
        "# In this case, it should already exist from previous runs where articles were inserted.\n",
        "conn = sqlite3.connect(\"pressreader_coffee_results.db\")\n",
        "cursor = conn.cursor()\n",
        "\n",
        "# ---------------------------------------------\n",
        "# STEP 2: Query the articles table for data\n",
        "# ---------------------------------------------\n",
        "# This SQL query selects 6 fields from the `articles` table:\n",
        "# - id: the unique article ID (used as the primary key)\n",
        "# - title: the article's title\n",
        "# - description: a brief summary or excerpt\n",
        "# - publication: the name of the publication that published it\n",
        "# - date: the publication date (in YYYY-MM-DD format)\n",
        "# - url: direct link to the article online\n",
        "#\n",
        "# The results are filtered to exclude empty or null dates,\n",
        "# and sorted by `date` in descending order, so the most recent articles appear first.\n",
        "cursor.execute(\"\"\"\n",
        "    SELECT id, title, description, publication, date, url\n",
        "    FROM articles\n",
        "    WHERE date IS NOT NULL AND date != ''\n",
        "    ORDER BY date DESC\n",
        "\"\"\")\n",
        "\n",
        "# Fetch all the resulting rows and store them in a list called `rows`\n",
        "rows = cursor.fetchall()\n",
        "\n",
        "# ---------------------------------------------\n",
        "# STEP 3: Loop through the results and display them\n",
        "# ---------------------------------------------\n",
        "# For each row (article), print it out in a clean, readable format.\n",
        "# The fields are displayed with clear labels, and each article is numbered.\n",
        "for idx, row in enumerate(rows, 1):  # Start numbering from 1\n",
        "    print(f\"\\n--- Article {idx} ---\")\n",
        "    print(f\"ID:          {row[0]}\")\n",
        "    print(f\"Title:       {row[1]}\")\n",
        "    print(f\"Description: {row[2]}\")\n",
        "    print(f\"Publication: {row[3]}\")\n",
        "    print(f\"Date:        {row[4]}\")\n",
        "    print(f\"URL:         {row[5]}\")\n",
        "\n",
        "# ---------------------------------------------\n",
        "# STEP 4: Close the database connection\n",
        "# ---------------------------------------------\n",
        "# This is good practice to release system resources and ensure changes are saved.\n",
        "conn.close()"
      ],
      "metadata": {
        "colab": {
          "base_uri": "https://localhost:8080/"
        },
        "id": "6-tHOUT0zCzC",
        "outputId": "e0507d6a-10fc-4fe3-812d-8086d1e7339a"
      },
      "execution_count": null,
      "outputs": [
        {
          "output_type": "stream",
          "name": "stdout",
          "text": [
            "\n",
            "--- Article 1 ---\n",
            "ID:          281792815078682\n",
            "Title:       What is brew­ing Singa­pore's cof­fee boom?\n",
            "Description: The Economist Intelligence Unit (EIU) says that Singapore is the world’s most expensive city.\n",
            "A cup of Kopi-O (coffee without milk) costs about $1, which is about US$0.70.\n",
            "Malaysia’s Kopi-O costs $0.50 and the GDP per capita is US$12,000.\n",
            "Publication: The Edge Singapore\n",
            "Date:        2025-07-28\n",
            "URL:         https://www.pressreader.com/singapore/the-edge-singapore/20250728/281792815078682\n",
            "\n",
            "--- Article 2 ---\n",
            "ID:          281925959063733\n",
            "Title:       Star­bucks, Dunkin’ lead Phl cof­fee mar­ket; local brands catch­ing up\n",
            "Description: brands continue to dominate the country’s coffee industry, but homegrown brands are gaining traction, helping to diversify and enrich Filipinos’ caffeine options, according to the University of Asia and the Pacific-Center for Food and Agri Business (UA&P-CFA).\n",
            "In a policy brief, UA&P-CFA said the local café market is led by a “few dominant” global brands, based on a\n",
            "The policy brief indicated that Starbucks Corp. remains as the industry leader, accounting for almost 54 percent of total value share among chain café and bar operators.\n",
            "Publication: The Philippine Star\n",
            "Date:        2025-07-28\n",
            "URL:         https://www.pressreader.com/philippines/the-philippine-star/20250728/281925959063733\n",
            "\n",
            "--- Article 3 ---\n",
            "ID:          281878714416579\n",
            "Title:       TCPL pre­pares for another quarter of low cof­fee mar­gins\n",
            "Description: Packaged food and beverage firm Tata Consumer Products Ltd (TCPL) on Wednesday said coffee prices are currently on a downward trajectory, though the ongoing volatility necessitates close monitoring following a period of significant surge.\n",
            "In the March quarter, TCPL had said prices of Arabica coffee were 97% higher year-onyear, while Robusta coffee prices were up 56%.\n",
            "Despite a global price drop impacting profitability, the firm’s coffee business in India reported revenue growth of 67% on the back of a 33rise % in volumes.\n",
            "Publication: Mint Mumbai\n",
            "Date:        2025-07-24\n",
            "URL:         https://www.pressreader.com/india/mint-mumbai/20250724/281878714416579\n",
            "\n",
            "--- Article 4 ---\n",
            "ID:          281814289907148\n",
            "Title:       TCPL pre­pares for another quarter of low cof­fee mar­gins\n",
            "Description: Packaged food and beverage firm Tata Consumer Products Ltd (TCPL) on Wednesday said coffee prices are currently on a downward trajectory, though the ongoing volatility necessitates close monitoring following a period of significant surge.\n",
            "In the March quarter, TCPL had said prices of Arabica coffee were 97% higher year-onyear, while Robusta coffee prices were up 56%.\n",
            "Despite a global price drop impacting profitability, the firm’s coffee business in India reported revenue growth of 67% on the back of a 33rise % in volumes.\n",
            "Publication: Mint Hyderabad\n",
            "Date:        2025-07-24\n",
            "URL:         https://www.pressreader.com/india/mint-hyderabad/20250724/281814289907148\n",
            "\n",
            "--- Article 5 ---\n",
            "ID:          281844354678219\n",
            "Title:       TCPL pre­pares for another quarter of low cof­fee mar­gins\n",
            "Description: Packaged food and beverage firm Tata Consumer Products Ltd (TCPL) on Wednesday said coffee prices are currently on a downward trajectory, though the ongoing volatility necessitates close monitoring following a period of significant surge.\n",
            "In the March quarter, TCPL had said prices of Arabica coffee were 97% higher year-onyear, while Robusta coffee prices were up 56%.\n",
            "Despite a global price drop impacting profitability, the firm’s coffee business in India reported revenue growth of 67% on the back of a 33rise % in volumes.\n",
            "Publication: Mint Delhi\n",
            "Date:        2025-07-24\n",
            "URL:         https://www.pressreader.com/india/mint-delhi/20250724/281844354678219\n"
          ]
        }
      ]
    }
  ],
  "metadata": {
    "colab": {
      "provenance": []
    },
    "kernelspec": {
      "display_name": "Python 3",
      "language": "python",
      "name": "python3"
    },
    "language_info": {
      "name": "python",
      "version": "3.x"
    }
  },
  "nbformat": 4,
  "nbformat_minor": 0
}